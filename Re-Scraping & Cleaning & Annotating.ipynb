{
 "cells": [
  {
   "cell_type": "markdown",
   "id": "7f726076",
   "metadata": {},
   "source": [
    "### Web Scraping: Get the top20 songs list of Coldplay on Spotify from a website called KWORB\n",
    "Kworb is a music data analytics website that aggregates and showcases Spotify streaming charts and artist rankings. The platform offers insights into song popularity and trends across various regions globally."
   ]
  },
  {
   "cell_type": "code",
   "execution_count": 115,
   "id": "4815447f",
   "metadata": {},
   "outputs": [
    {
     "name": "stdout",
     "output_type": "stream",
     "text": [
      "                       Song Title     Streams      Daily\n",
      "0      * Something Just Like This  2360429097  1024226.0\n",
      "1                          Yellow  1994170156  1619221.0\n",
      "2                    Viva La Vida  1817301965  1397710.0\n",
      "3                   The Scientist  1730247039   809670.0\n",
      "4                         Fix You  1331066416   726609.0\n",
      "5             A Sky Full of Stars  1306202500   927520.0\n",
      "6            Hymn for the Weekend  1269746647   634085.0\n",
      "7                     My Universe  1165484041   599792.0\n",
      "8                        Paradise  1162178312   653060.0\n",
      "9         Adventure of a Lifetime   923446921   532144.0\n",
      "10                         Clocks   793528827   576293.0\n",
      "11                         Sparks   771267093  1062281.0\n",
      "12                          Magic   669899679   157968.0\n",
      "14                        Trouble   329969893   160220.0\n",
      "15                   Higher Power   320956467   153495.0\n",
      "16                    In My Place   300647715   193981.0\n",
      "17               Christmas Lights   296139143  1070425.0\n",
      "18  Every Teardrop Is a Waterfall   284987603   117416.0\n",
      "19                       Everglow   279301002    82641.0\n",
      "20              Princess of China   259481112    96931.0\n"
     ]
    }
   ],
   "source": [
    "import pandas as pd\n",
    "import requests\n",
    "\n",
    "# URL of kworb\n",
    "url = \"https://kworb.net/spotify/artist/4gzpq5DPGxSnKTe4SA8HAU_songs.html\"\n",
    "# request the content\n",
    "r = requests.get(url)\n",
    "# make sure the request is success\n",
    "if r.status_code == 200:\n",
    "    # analyze the tables on the website\n",
    "    df_list = pd.read_html(r.text)\n",
    "    #get the second table on the website\n",
    "    df = df_list[1]\n",
    "    #remove the repeated row...\n",
    "    df = df.drop(13, axis=0)\n",
    "    # save the table as CSV format\n",
    "    df.to_csv(\"spotify_songs.csv\", index=False)\n",
    "    print(df.head(20))"
   ]
  },
  {
   "cell_type": "markdown",
   "id": "f4c8119f",
   "metadata": {},
   "source": [
    "###  Cleaning & Annotating "
   ]
  },
  {
   "cell_type": "markdown",
   "id": "fcdfede9",
   "metadata": {},
   "source": [
    "#### 1. Install and initiate everything we are going to use"
   ]
  },
  {
   "cell_type": "code",
   "execution_count": 3,
   "id": "e5df0080",
   "metadata": {},
   "outputs": [
    {
     "name": "stdout",
     "output_type": "stream",
     "text": [
      "Requirement already satisfied: nltk in /Users/irontree/anaconda3/lib/python3.10/site-packages (3.7)\n",
      "Requirement already satisfied: regex>=2021.8.3 in /Users/irontree/anaconda3/lib/python3.10/site-packages (from nltk) (2022.7.9)\n",
      "Requirement already satisfied: tqdm in /Users/irontree/anaconda3/lib/python3.10/site-packages (from nltk) (4.64.1)\n",
      "Requirement already satisfied: click in /Users/irontree/anaconda3/lib/python3.10/site-packages (from nltk) (8.0.4)\n",
      "Requirement already satisfied: joblib in /Users/irontree/anaconda3/lib/python3.10/site-packages (from nltk) (1.1.1)\n",
      "Note: you may need to restart the kernel to use updated packages.\n"
     ]
    }
   ],
   "source": [
    "pip install nltk"
   ]
  },
  {
   "cell_type": "code",
   "execution_count": 4,
   "id": "6c226079",
   "metadata": {},
   "outputs": [
    {
     "name": "stdout",
     "output_type": "stream",
     "text": [
      "Requirement already satisfied: spacy in /Users/irontree/anaconda3/lib/python3.10/site-packages (3.7.2)\n",
      "Requirement already satisfied: cymem<2.1.0,>=2.0.2 in /Users/irontree/anaconda3/lib/python3.10/site-packages (from spacy) (2.0.8)\n",
      "Requirement already satisfied: spacy-legacy<3.1.0,>=3.0.11 in /Users/irontree/anaconda3/lib/python3.10/site-packages (from spacy) (3.0.12)\n",
      "Requirement already satisfied: setuptools in /Users/irontree/anaconda3/lib/python3.10/site-packages (from spacy) (65.6.3)\n",
      "Requirement already satisfied: numpy>=1.19.0 in /Users/irontree/anaconda3/lib/python3.10/site-packages (from spacy) (1.23.5)\n",
      "Requirement already satisfied: typer<0.10.0,>=0.3.0 in /Users/irontree/anaconda3/lib/python3.10/site-packages (from spacy) (0.9.0)\n",
      "Requirement already satisfied: preshed<3.1.0,>=3.0.2 in /Users/irontree/anaconda3/lib/python3.10/site-packages (from spacy) (3.0.9)\n",
      "Requirement already satisfied: weasel<0.4.0,>=0.1.0 in /Users/irontree/anaconda3/lib/python3.10/site-packages (from spacy) (0.3.4)\n",
      "Requirement already satisfied: packaging>=20.0 in /Users/irontree/anaconda3/lib/python3.10/site-packages (from spacy) (22.0)\n",
      "Requirement already satisfied: catalogue<2.1.0,>=2.0.6 in /Users/irontree/anaconda3/lib/python3.10/site-packages (from spacy) (2.0.10)\n",
      "Requirement already satisfied: smart-open<7.0.0,>=5.2.1 in /Users/irontree/anaconda3/lib/python3.10/site-packages (from spacy) (5.2.1)\n",
      "Requirement already satisfied: pydantic!=1.8,!=1.8.1,<3.0.0,>=1.7.4 in /Users/irontree/anaconda3/lib/python3.10/site-packages (from spacy) (2.5.2)\n",
      "Requirement already satisfied: murmurhash<1.1.0,>=0.28.0 in /Users/irontree/anaconda3/lib/python3.10/site-packages (from spacy) (1.0.10)\n",
      "Requirement already satisfied: wasabi<1.2.0,>=0.9.1 in /Users/irontree/anaconda3/lib/python3.10/site-packages (from spacy) (1.1.2)\n",
      "Requirement already satisfied: spacy-loggers<2.0.0,>=1.0.0 in /Users/irontree/anaconda3/lib/python3.10/site-packages (from spacy) (1.0.5)\n",
      "Requirement already satisfied: srsly<3.0.0,>=2.4.3 in /Users/irontree/anaconda3/lib/python3.10/site-packages (from spacy) (2.4.8)\n",
      "Requirement already satisfied: thinc<8.3.0,>=8.1.8 in /Users/irontree/anaconda3/lib/python3.10/site-packages (from spacy) (8.2.1)\n",
      "Requirement already satisfied: jinja2 in /Users/irontree/anaconda3/lib/python3.10/site-packages (from spacy) (3.1.2)\n",
      "Requirement already satisfied: langcodes<4.0.0,>=3.2.0 in /Users/irontree/anaconda3/lib/python3.10/site-packages (from spacy) (3.3.0)\n",
      "Requirement already satisfied: requests<3.0.0,>=2.13.0 in /Users/irontree/anaconda3/lib/python3.10/site-packages (from spacy) (2.28.1)\n",
      "Requirement already satisfied: tqdm<5.0.0,>=4.38.0 in /Users/irontree/anaconda3/lib/python3.10/site-packages (from spacy) (4.64.1)\n",
      "Requirement already satisfied: annotated-types>=0.4.0 in /Users/irontree/anaconda3/lib/python3.10/site-packages (from pydantic!=1.8,!=1.8.1,<3.0.0,>=1.7.4->spacy) (0.6.0)\n",
      "Requirement already satisfied: typing-extensions>=4.6.1 in /Users/irontree/anaconda3/lib/python3.10/site-packages (from pydantic!=1.8,!=1.8.1,<3.0.0,>=1.7.4->spacy) (4.9.0)\n",
      "Requirement already satisfied: pydantic-core==2.14.5 in /Users/irontree/anaconda3/lib/python3.10/site-packages (from pydantic!=1.8,!=1.8.1,<3.0.0,>=1.7.4->spacy) (2.14.5)\n",
      "Requirement already satisfied: charset-normalizer<3,>=2 in /Users/irontree/anaconda3/lib/python3.10/site-packages (from requests<3.0.0,>=2.13.0->spacy) (2.0.4)\n",
      "Requirement already satisfied: urllib3<1.27,>=1.21.1 in /Users/irontree/anaconda3/lib/python3.10/site-packages (from requests<3.0.0,>=2.13.0->spacy) (1.26.14)\n",
      "Requirement already satisfied: certifi>=2017.4.17 in /Users/irontree/anaconda3/lib/python3.10/site-packages (from requests<3.0.0,>=2.13.0->spacy) (2023.7.22)\n",
      "Requirement already satisfied: idna<4,>=2.5 in /Users/irontree/anaconda3/lib/python3.10/site-packages (from requests<3.0.0,>=2.13.0->spacy) (3.4)\n",
      "Requirement already satisfied: blis<0.8.0,>=0.7.8 in /Users/irontree/anaconda3/lib/python3.10/site-packages (from thinc<8.3.0,>=8.1.8->spacy) (0.7.11)\n",
      "Requirement already satisfied: confection<1.0.0,>=0.0.1 in /Users/irontree/anaconda3/lib/python3.10/site-packages (from thinc<8.3.0,>=8.1.8->spacy) (0.1.4)\n",
      "Requirement already satisfied: click<9.0.0,>=7.1.1 in /Users/irontree/anaconda3/lib/python3.10/site-packages (from typer<0.10.0,>=0.3.0->spacy) (8.0.4)\n",
      "Requirement already satisfied: cloudpathlib<0.17.0,>=0.7.0 in /Users/irontree/anaconda3/lib/python3.10/site-packages (from weasel<0.4.0,>=0.1.0->spacy) (0.16.0)\n",
      "Requirement already satisfied: MarkupSafe>=2.0 in /Users/irontree/anaconda3/lib/python3.10/site-packages (from jinja2->spacy) (2.1.1)\n",
      "Note: you may need to restart the kernel to use updated packages.\n"
     ]
    }
   ],
   "source": [
    "pip install spacy"
   ]
  },
  {
   "cell_type": "code",
   "execution_count": 5,
   "id": "ccf018b5",
   "metadata": {
    "scrolled": true
   },
   "outputs": [
    {
     "name": "stdout",
     "output_type": "stream",
     "text": [
      "Requirement already satisfied: pandas in /Users/irontree/anaconda3/lib/python3.10/site-packages (1.5.3)\n",
      "Requirement already satisfied: python-dateutil>=2.8.1 in /Users/irontree/anaconda3/lib/python3.10/site-packages (from pandas) (2.8.2)\n",
      "Requirement already satisfied: pytz>=2020.1 in /Users/irontree/anaconda3/lib/python3.10/site-packages (from pandas) (2022.7)\n",
      "Requirement already satisfied: numpy>=1.21.0 in /Users/irontree/anaconda3/lib/python3.10/site-packages (from pandas) (1.23.5)\n",
      "Requirement already satisfied: six>=1.5 in /Users/irontree/anaconda3/lib/python3.10/site-packages (from python-dateutil>=2.8.1->pandas) (1.16.0)\n",
      "Note: you may need to restart the kernel to use updated packages.\n"
     ]
    }
   ],
   "source": [
    "pip install pandas"
   ]
  },
  {
   "cell_type": "code",
   "execution_count": 12,
   "id": "1c19b5aa-65f4-4769-a997-2ab5a062725c",
   "metadata": {},
   "outputs": [
    {
     "name": "stdout",
     "output_type": "stream",
     "text": [
      "Collecting wordninja\n",
      "  Downloading wordninja-2.0.0.tar.gz (541 kB)\n",
      "\u001b[2K     \u001b[90m━━━━━━━━━━━━━━━━━━━━━━━━━━━━━━━━━━━━━━━\u001b[0m \u001b[32m541.6/541.6 kB\u001b[0m \u001b[31m1.9 MB/s\u001b[0m eta \u001b[36m0:00:00\u001b[0ma \u001b[36m0:00:01\u001b[0m\n",
      "\u001b[?25h  Preparing metadata (setup.py) ... \u001b[?25ldone\n",
      "\u001b[?25hBuilding wheels for collected packages: wordninja\n",
      "  Building wheel for wordninja (setup.py) ... \u001b[?25ldone\n",
      "\u001b[?25h  Created wheel for wordninja: filename=wordninja-2.0.0-py3-none-any.whl size=541530 sha256=b47d83f828c8744d7b7b5ca274dc7e9b97542c19fbaebca5b1e0e01e3593911f\n",
      "  Stored in directory: /Users/irontree/Library/Caches/pip/wheels/7c/e6/e6/e95742bec8d8c3d40687c0c50b8537bb71347ce84a2b322234\n",
      "Successfully built wordninja\n",
      "Installing collected packages: wordninja\n",
      "Successfully installed wordninja-2.0.0\n",
      "Note: you may need to restart the kernel to use updated packages.\n"
     ]
    }
   ],
   "source": [
    "pip install wordninja"
   ]
  },
  {
   "cell_type": "code",
   "execution_count": 71,
   "id": "81a88d7c",
   "metadata": {},
   "outputs": [
    {
     "name": "stderr",
     "output_type": "stream",
     "text": [
      "[nltk_data] Downloading package punkt to /Users/irontree/nltk_data...\n",
      "[nltk_data]   Package punkt is already up-to-date!\n"
     ]
    },
    {
     "data": {
      "text/plain": [
       "True"
      ]
     },
     "execution_count": 71,
     "metadata": {},
     "output_type": "execute_result"
    }
   ],
   "source": [
    "# initiate everything\n",
    "import os\n",
    "import re\n",
    "import string\n",
    "import pandas as pd\n",
    "import nltk\n",
    "import spacy\n",
    "from nltk.tokenize import word_tokenize\n",
    "nltk.download('punkt')"
   ]
  },
  {
   "cell_type": "markdown",
   "id": "a07aa194",
   "metadata": {},
   "source": [
    "#### 2. Define the function for cleaning the texts"
   ]
  },
  {
   "cell_type": "code",
   "execution_count": 73,
   "id": "b018cf3a",
   "metadata": {},
   "outputs": [],
   "source": [
    "def clean_and_tokenize_lyrics(text):\n",
    "    # Lowercase the text\n",
    "    text = text.lower()\n",
    "    # Remove punctuation\n",
    "    text = text.translate(str.maketrans('', '', string.punctuation))\n",
    "    # Tokenization\n",
    "    tokens = word_tokenize(text)\n",
    "    return tokens"
   ]
  },
  {
   "cell_type": "markdown",
   "id": "c3430a58",
   "metadata": {},
   "source": [
    "#### 3. Define the function for getting POS and Lemmas"
   ]
  },
  {
   "cell_type": "code",
   "execution_count": 74,
   "id": "d4ad7dde",
   "metadata": {},
   "outputs": [],
   "source": [
    "def get_pos_and_lemma(tokens):\n",
    "    spacy_doc = spacy_nlp(' '.join(tokens))\n",
    "    # get pos\n",
    "    pos = [token.pos_ for token in spacy_doc]\n",
    "    # get lemmas \n",
    "    lemmas = [token.lemma_ for token in spacy_doc]\n",
    "    return pos, lemmas"
   ]
  },
  {
   "cell_type": "markdown",
   "id": "d30277ee",
   "metadata": {},
   "source": [
    "#### 4. Read the text files and make them into structured dataset"
   ]
  },
  {
   "cell_type": "code",
   "execution_count": 75,
   "id": "04c185bf",
   "metadata": {},
   "outputs": [],
   "source": [
    "file_data = []\n",
    "# read the text\n",
    "for filename in os.listdir('Lyrics Dataset of top20 Songs'):\n",
    "    if filename.endswith('.txt'):\n",
    "        with open(f'Lyrics Dataset of top20 Songs/{filename}', 'r', encoding='utf-8') as file:\n",
    "            text = file.read()\n",
    "            #clean the text\n",
    "            cleaned_tokens = clean_and_tokenize_lyrics(text)\n",
    "            #get pos and lemmas of the text\n",
    "            pos_tags, lemmas = get_pos_and_lemma(cleaned_tokens)\n",
    "            #remove the extension name of file \n",
    "            file_data.append({\n",
    "                'filename': filename.replace('.txt', ''),\n",
    "                'original_text': text,\n",
    "                'tokens': cleaned_tokens,\n",
    "                'POS': pos_tags,\n",
    "                'lemmas': lemmas\n",
    "            })"
   ]
  },
  {
   "cell_type": "markdown",
   "id": "e6dc0e93",
   "metadata": {},
   "source": [
    "#### 5. Make the file_data into datafram and export CSV"
   ]
  },
  {
   "cell_type": "code",
   "execution_count": 76,
   "id": "8a8932c7",
   "metadata": {},
   "outputs": [],
   "source": [
    "df = pd.DataFrame(file_data)\n",
    "\n",
    "df.to_csv('Corpus.csv', index=False)"
   ]
  }
 ],
 "metadata": {
  "kernelspec": {
   "display_name": "Python 3 (ipykernel)",
   "language": "python",
   "name": "python3"
  },
  "language_info": {
   "codemirror_mode": {
    "name": "ipython",
    "version": 3
   },
   "file_extension": ".py",
   "mimetype": "text/x-python",
   "name": "python",
   "nbconvert_exporter": "python",
   "pygments_lexer": "ipython3",
   "version": "3.10.9"
  }
 },
 "nbformat": 4,
 "nbformat_minor": 5
}
